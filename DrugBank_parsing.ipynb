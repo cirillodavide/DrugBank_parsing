{
 "cells": [
  {
   "cell_type": "code",
   "execution_count": 1,
   "metadata": {},
   "outputs": [],
   "source": [
    "import glob\n",
    "from tqdm import tqdm\n",
    "from bs4 import BeautifulSoup\n",
    "import pandas as pd"
   ]
  },
  {
   "cell_type": "code",
   "execution_count": 97,
   "metadata": {},
   "outputs": [
    {
     "name": "stderr",
     "output_type": "stream",
     "text": [
      "100%|██████████| 501/501 [24:44<00:00,  2.96s/it] \n"
     ]
    }
   ],
   "source": [
    "def names(drug):\n",
    "    lst = []\n",
    "    for i in drug.select('drug'):\n",
    "        if i.parent.name == 'drugbank':\n",
    "            name = i.find('name').text\n",
    "            dbid = i.find('drugbank-id').text\n",
    "            synonyms = ''\n",
    "            tmp = []\n",
    "            for j in i.select('synonyms'):\n",
    "                for k in j.select('synonym'):\n",
    "                    tmp.append(k.text)\n",
    "            synonyms = '; '.join(tmp)\n",
    "            lst.append([dbid, name,synonyms])\n",
    "        else:\n",
    "            pass\n",
    "    return(lst)\n",
    "\n",
    "def targets(drug):\n",
    "    lst = []\n",
    "    for i in drug.select('drug'):\n",
    "        dbid = i.find('drugbank-id').text\n",
    "        target_UniProtKB = ''\n",
    "        for j in i.select('targets'):\n",
    "            for o in j.select('target'):\n",
    "                try:\n",
    "                    target_geneName = o.find('gene-name').text\n",
    "                except:\n",
    "                    target_geneName = ''\n",
    "                for k in o.select('external-identifier'):\n",
    "                    if k.find('resource').text == 'UniProtKB':\n",
    "                        target_UniProtKB = k.find('identifier').text\n",
    "                for k in o.select('actions'):\n",
    "                    try:\n",
    "                        target_action = k.find('action').text\n",
    "                    except:\n",
    "                        target_action = ''\n",
    "                lst.append([dbid, target_geneName, target_UniProtKB, target_action])\n",
    "    return(lst)\n",
    "\n",
    "def interactions(drug):\n",
    "    lst = []\n",
    "    for i in drug.select('drug'):\n",
    "        dbid = i.find('drugbank-id').text\n",
    "        interactor_dbid = ''\n",
    "        interaction_type = ''\n",
    "        for j in i.select('drug-interactions'):\n",
    "            for k in j.select('drug-interaction'):\n",
    "                interactor_dbid = k.find('drugbank-id').text\n",
    "                interaction_type = k.find('description').text\n",
    "                lst.append([dbid, interactor_dbid, interaction_type])\n",
    "    return(lst)\n",
    "\n",
    "filelist = glob.glob('./DrugBank_full_database_v5/*.xml')\n",
    "\n",
    "lst_names = []\n",
    "lst_targets  = []\n",
    "lst_interactions = []\n",
    "\n",
    "for file in tqdm(filelist):\n",
    "    infile = open(file, 'r', encoding='utf-8')\n",
    "    contents = infile.read()\n",
    "    soup = BeautifulSoup(contents, 'lxml-xml')\n",
    "    drugs = soup.select('drugbank')\n",
    "    for drug in drugs:\n",
    "        lst_names.append(pd.DataFrame.from_records(names(drug), columns=['DrugBankID','DrugName','DrugSynonyms']))\n",
    "        lst_targets.append(pd.DataFrame.from_records(targets(drug), columns=['DrugBankID','TargetGeneSymbol','TargetUniProtID','Action']))\n",
    "        lst_interactions.append(pd.DataFrame.from_records(interactions(drug), columns=['DrugBankID_1','DrugBankID_2','Description']))\n",
    "\n",
    "df_names = pd.concat(lst_names)\n",
    "df_targets = pd.concat(lst_targets)\n",
    "df_interactions = pd.concat(lst_interactions)"
   ]
  },
  {
   "cell_type": "code",
   "execution_count": 99,
   "metadata": {},
   "outputs": [],
   "source": [
    "df_names.to_csv('DrugBank_names.tsv', index=False, sep='\\t')\n",
    "df_targets.to_csv('DrugBank_targets.tsv', index=False, sep='\\t')\n",
    "df_interactions.to_csv('DrugBank_interactions.tsv', index=False, sep='\\t')"
   ]
  }
 ],
 "metadata": {
  "kernelspec": {
   "display_name": "Python 3",
   "language": "python",
   "name": "python3"
  },
  "language_info": {
   "codemirror_mode": {
    "name": "ipython",
    "version": 3
   },
   "file_extension": ".py",
   "mimetype": "text/x-python",
   "name": "python",
   "nbconvert_exporter": "python",
   "pygments_lexer": "ipython3",
   "version": "3.6.9"
  }
 },
 "nbformat": 4,
 "nbformat_minor": 4
}
